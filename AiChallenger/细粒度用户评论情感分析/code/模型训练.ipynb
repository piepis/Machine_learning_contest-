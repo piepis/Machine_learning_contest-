{
 "cells": [
  {
   "cell_type": "markdown",
   "metadata": {},
   "source": [
    "# 数据说明"
   ]
  },
  {
   "cell_type": "markdown",
   "metadata": {},
   "source": [
    "数据集分为训练、验证、测试A与测试B四部分。数据集中的评价对象按照粒度不同划分为两个层次，层次一为粗粒度的评价对象，例如评论文本中涉及的服务、位置等要素；层次二为细粒度的情感对象，例如“服务”属性中的“服务人员态度”、“排队等候时间”等细粒度要素。评价对象的具体划分如下表所示。"
   ]
  },
  {
   "cell_type": "markdown",
   "metadata": {},
   "source": [
    "![title](img/label_name.png)"
   ]
  },
  {
   "cell_type": "markdown",
   "metadata": {},
   "source": [
    "**每个细粒度要素的情感倾向有四种状态：正向、中性、负向、未提及。使用[1,0,-1,-2]四个值对情感倾向进行描述，情感倾向值及其含义对照表如下所示：**"
   ]
  },
  {
   "cell_type": "markdown",
   "metadata": {},
   "source": [
    "![title](img/label_name1.png)"
   ]
  },
  {
   "cell_type": "markdown",
   "metadata": {},
   "source": [
    "# 举例"
   ]
  },
  {
   "cell_type": "markdown",
   "metadata": {},
   "source": [
    "“味道不错的面馆，性价比也相当之高，分量很足～女生吃小份，胃口小的，可能吃不完呢。环境在面馆来说算是好的，至少看上去堂子很亮，也比较干净，一般苍蝇馆子还是比不上这个卫生状况的。中午饭点的时候，人很多，人行道上也是要坐满的，隔壁的冒菜馆子，据说是一家，有时候也会开放出来坐吃面的人。"
   ]
  },
  {
   "cell_type": "markdown",
   "metadata": {},
   "source": [
    "![title](img/example.png)"
   ]
  },
  {
   "cell_type": "markdown",
   "metadata": {},
   "source": [
    "# 结果提交说明"
   ]
  },
  {
   "cell_type": "markdown",
   "metadata": {},
   "source": [
    "需根据训练的模型对测试集的6大类20个的细粒度要素的情感倾向进行预测，提交预测结果，预测结果使用[-2,-1,0,1]四个值进行描述，返回的结果需保存为csv文件。格式如下："
   ]
  },
  {
   "cell_type": "markdown",
   "metadata": {},
   "source": [
    "![title](img/result.png)"
   ]
  },
  {
   "cell_type": "markdown",
   "metadata": {},
   "source": [
    "**标注字段说明：**"
   ]
  },
  {
   "cell_type": "markdown",
   "metadata": {},
   "source": [
    "![title](img/result1.png)"
   ]
  },
  {
   "cell_type": "markdown",
   "metadata": {},
   "source": [
    "# 评价指标"
   ]
  },
  {
   "cell_type": "markdown",
   "metadata": {},
   "source": [
    "![title](img/score_name2.png)"
   ]
  },
  {
   "cell_type": "markdown",
   "metadata": {},
   "source": [
    "# 模型代码"
   ]
  },
  {
   "cell_type": "code",
   "execution_count": 16,
   "metadata": {},
   "outputs": [],
   "source": [
    "import pandas as pd"
   ]
  },
  {
   "cell_type": "markdown",
   "metadata": {},
   "source": [
    "导入训练集"
   ]
  },
  {
   "cell_type": "code",
   "execution_count": 17,
   "metadata": {},
   "outputs": [],
   "source": [
    "train = pd.read_csv(r'sentiment_analysis_trainingset.csv') "
   ]
  },
  {
   "cell_type": "markdown",
   "metadata": {},
   "source": [
    "导入测试级"
   ]
  },
  {
   "cell_type": "code",
   "execution_count": 26,
   "metadata": {},
   "outputs": [],
   "source": [
    "test = pd.read_csv(r'sentiment_analysis_testa.csv')"
   ]
  },
  {
   "cell_type": "code",
   "execution_count": 18,
   "metadata": {},
   "outputs": [
    {
     "name": "stdout",
     "output_type": "stream",
     "text": [
      "(105000, 22)\n"
     ]
    }
   ],
   "source": [
    "print(train.shape)"
   ]
  },
  {
   "cell_type": "code",
   "execution_count": 19,
   "metadata": {},
   "outputs": [
    {
     "data": {
      "text/plain": [
       "'\"吼吼吼，萌死人的棒棒糖，中了大众点评的霸王餐，太可爱了。一直就好奇这个棒棒糖是怎么个东西，大众点评给了我这个土老冒一个见识的机会。看介绍棒棒糖是用德国糖做的，不会很甜，中间的照片是糯米的，能食用，真是太高端大气上档次了，还可以买蝴蝶结扎口，送人可以买礼盒。我是先打的卖家电话，加了微信，给卖家传的照片。等了几天，卖家就告诉我可以取货了，去大官屯那取的。虽然连卖家的面都没见到，但是还是谢谢卖家送我这么可爱的东西，太喜欢了，这哪舍得吃啊。\"'"
      ]
     },
     "execution_count": 19,
     "metadata": {},
     "output_type": "execute_result"
    }
   ],
   "source": [
    "train.iloc[0]['content']"
   ]
  },
  {
   "cell_type": "code",
   "execution_count": 28,
   "metadata": {},
   "outputs": [
    {
     "data": {
      "text/plain": [
       "id                                                                                          0\n",
       "content                                     \"我想说他们家的优惠活动好持久啊，我预售的时候买的券，前两天心血来潮去吃的活动还在继续\\n首...\n",
       "location_traffic_convenience                                                              NaN\n",
       "location_distance_from_business_district                                                  NaN\n",
       "location_easy_to_find                                                                     NaN\n",
       "service_wait_time                                                                         NaN\n",
       "service_waiters_attitude                                                                  NaN\n",
       "service_parking_convenience                                                               NaN\n",
       "service_serving_speed                                                                     NaN\n",
       "price_level                                                                               NaN\n",
       "price_cost_effective                                                                      NaN\n",
       "price_discount                                                                            NaN\n",
       "environment_decoration                                                                    NaN\n",
       "environment_noise                                                                         NaN\n",
       "environment_space                                                                         NaN\n",
       "environment_cleaness                                                                      NaN\n",
       "dish_portion                                                                              NaN\n",
       "dish_taste                                                                                NaN\n",
       "dish_look                                                                                 NaN\n",
       "dish_recommendation                                                                       NaN\n",
       "others_overall_experience                                                                 NaN\n",
       "others_willing_to_consume_again                                                           NaN\n",
       "Name: 0, dtype: object"
      ]
     },
     "execution_count": 28,
     "metadata": {},
     "output_type": "execute_result"
    }
   ],
   "source": [
    "test.iloc[0]"
   ]
  },
  {
   "cell_type": "code",
   "execution_count": 20,
   "metadata": {},
   "outputs": [
    {
     "data": {
      "text/plain": [
       "id                                                                                          0\n",
       "content                                     \"吼吼吼，萌死人的棒棒糖，中了大众点评的霸王餐，太可爱了。一直就好奇这个棒棒糖是怎么个东西，...\n",
       "location_traffic_convenience                                                               -2\n",
       "location_distance_from_business_district                                                   -2\n",
       "location_easy_to_find                                                                      -2\n",
       "service_wait_time                                                                          -2\n",
       "service_waiters_attitude                                                                    1\n",
       "service_parking_convenience                                                                -2\n",
       "service_serving_speed                                                                      -2\n",
       "price_level                                                                                -2\n",
       "price_cost_effective                                                                       -2\n",
       "price_discount                                                                              1\n",
       "environment_decoration                                                                     -2\n",
       "environment_noise                                                                          -2\n",
       "environment_space                                                                          -2\n",
       "environment_cleaness                                                                       -2\n",
       "dish_portion                                                                               -2\n",
       "dish_taste                                                                                 -2\n",
       "dish_look                                                                                   1\n",
       "dish_recommendation                                                                        -2\n",
       "others_overall_experience                                                                   1\n",
       "others_willing_to_consume_again                                                            -2\n",
       "Name: 0, dtype: object"
      ]
     },
     "execution_count": 20,
     "metadata": {},
     "output_type": "execute_result"
    }
   ],
   "source": [
    "train.iloc[0]"
   ]
  },
  {
   "cell_type": "markdown",
   "metadata": {},
   "source": [
    "# 简单的svm算法"
   ]
  },
  {
   "cell_type": "code",
   "execution_count": null,
   "metadata": {},
   "outputs": [],
   "source": []
  },
  {
   "cell_type": "code",
   "execution_count": 21,
   "metadata": {},
   "outputs": [],
   "source": [
    "import jieba"
   ]
  },
  {
   "cell_type": "markdown",
   "metadata": {
    "collapsed": true
   },
   "source": [
    "## jieba的三种分词模式\n"
   ]
  },
  {
   "cell_type": "markdown",
   "metadata": {
    "collapsed": true
   },
   "source": [
    "- 精确模式：试图将句子最精确地切开，适合文本分析\n",
    "- 全模式：把句子中所有的可以成词的词语都扫描出来，速度非常快，但是不能解决歧义\n",
    "- 搜索引擎模式：在精确模式的基础上，对长词再进行划分，提高召回率，适合用于搜索引擎分词"
   ]
  },
  {
   "cell_type": "markdown",
   "metadata": {},
   "source": [
    "参考链接[https://blog.csdn.net/qq_34435926/article/details/79934773]"
   ]
  },
  {
   "cell_type": "code",
   "execution_count": 22,
   "metadata": {},
   "outputs": [],
   "source": [
    "str =train.iloc[0]['content'] #用来分词的字符串"
   ]
  },
  {
   "cell_type": "code",
   "execution_count": 23,
   "metadata": {},
   "outputs": [
    {
     "name": "stderr",
     "output_type": "stream",
     "text": [
      "Building prefix dict from the default dictionary ...\n",
      "Dumping model to file cache C:\\Users\\wangkai8\\AppData\\Local\\Temp\\jieba.cache\n",
      "Loading model cost 1.088 seconds.\n",
      "Prefix dict has been built succesfully.\n"
     ]
    },
    {
     "name": "stdout",
     "output_type": "stream",
     "text": [
      "精确模式(默认)： \" 吼吼 吼 ， 萌死 人 的 棒棒糖 ， 中 了 大众 点评 的 霸王餐 ， 太 可爱 了 。 一直 就 好奇 这个 棒棒糖 是 怎么 个 东西 ， 大众 点评 给 了 我 这个 土老冒 一个 见识 的 机会 。 看 介绍 棒棒糖 是 用 德国 糖 做 的 ， 不会 很甜 ， 中间 的 照片 是 糯米 的 ， 能 食用 ， 真是太 高端 大气 上档次 了 ， 还 可以 买 蝴蝶结 扎口 ， 送人 可以 买 礼盒 。 我 是 先 打 的 卖家 电话 ， 加 了 微信 ， 给 卖家 传 的 照片 。 等 了 几天 ， 卖家 就 告诉 我 可以 取货 了 ， 去 大官 屯 那取 的 。 虽然 连 卖家 的 面 都 没 见到 ， 但是 还是 谢谢 卖家 送 我 这么 可爱 的 东西 ， 太 喜欢 了 ， 这 哪 舍得吃 啊 。 \"\n"
     ]
    }
   ],
   "source": [
    "print('精确模式(默认)：', ' '.join(jieba.cut(str)))"
   ]
  },
  {
   "cell_type": "code",
   "execution_count": 24,
   "metadata": {},
   "outputs": [
    {
     "name": "stdout",
     "output_type": "stream",
     "text": [
      "全模式：   吼吼 吼吼   萌 死 人 的 棒棒 棒棒糖   中 了 大众 大众点 点评 的 霸王 霸王餐   太 可爱 了   一直 就 好奇 这个 棒棒 棒棒糖 是 怎么 个 东西   大众 大众点 点评 给 了 我 这个 土老冒 一个 见识 的 机会   看 介绍 棒棒 棒棒糖 是 用 德国 糖 做 的   不会 很甜   中间 的 照片 是 糯米 的   能 食用   真是 真是太 高端 大气 上档 上档次 档次 了   还 可以 买 蝴蝶 蝴蝶结 结扎 口   送 人 可以 买 礼盒   我 是 先 打 的 卖家 家电 电话   加 了 微 信   给 卖家 家传 的 照片   等 了 几天   卖家 就 告诉 我 可以 取货 了   去 大官 屯 那 取 的   虽然 连 卖家 的 面 都 没见 见到   但是 还是 谢谢 卖家 送 我 这么 可爱 的 东西   太 喜欢 了   这 哪 舍得 舍得吃 啊   \n"
     ]
    }
   ],
   "source": [
    "print('全模式：', ' '.join(jieba.cut(str, cut_all=True)))"
   ]
  },
  {
   "cell_type": "code",
   "execution_count": 25,
   "metadata": {},
   "outputs": [
    {
     "name": "stdout",
     "output_type": "stream",
     "text": [
      "搜索引擎模式： \" 吼吼 吼 ， 萌死 人 的 棒棒 棒棒糖 ， 中 了 大众 点评 的 霸王 霸王餐 ， 太 可爱 了 。 一直 就 好奇 这个 棒棒 棒棒糖 是 怎么 个 东西 ， 大众 点评 给 了 我 这个 土老冒 一个 见识 的 机会 。 看 介绍 棒棒 棒棒糖 是 用 德国 糖 做 的 ， 不会 很甜 ， 中间 的 照片 是 糯米 的 ， 能 食用 ， 真是 真是太 高端 大气 上档 档次 上档次 了 ， 还 可以 买 蝴蝶 蝴蝶结 扎口 ， 送人 可以 买 礼盒 。 我 是 先 打 的 卖家 电话 ， 加 了 微信 ， 给 卖家 传 的 照片 。 等 了 几天 ， 卖家 就 告诉 我 可以 取货 了 ， 去 大官 屯 那取 的 。 虽然 连 卖家 的 面 都 没 见到 ， 但是 还是 谢谢 卖家 送 我 这么 可爱 的 东西 ， 太 喜欢 了 ， 这 哪 舍得 舍得吃 啊 。 \"\n"
     ]
    }
   ],
   "source": [
    "print('搜索引擎模式：', ' '.join(jieba.cut_for_search(str)))"
   ]
  },
  {
   "cell_type": "code",
   "execution_count": null,
   "metadata": {},
   "outputs": [],
   "source": []
  }
 ],
 "metadata": {
  "kernelspec": {
   "display_name": "Python 3",
   "language": "python",
   "name": "python3"
  },
  "language_info": {
   "codemirror_mode": {
    "name": "ipython",
    "version": 3
   },
   "file_extension": ".py",
   "mimetype": "text/x-python",
   "name": "python",
   "nbconvert_exporter": "python",
   "pygments_lexer": "ipython3",
   "version": "3.6.0"
  }
 },
 "nbformat": 4,
 "nbformat_minor": 2
}
